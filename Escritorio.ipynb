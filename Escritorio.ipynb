{
 "cells": [
  {
   "cell_type": "code",
   "execution_count": 21,
   "metadata": {},
   "outputs": [
    {
     "name": "stdout",
     "output_type": "stream",
     "text": [
      "bien\n"
     ]
    }
   ],
   "source": [
    "import tkinter as tk\n",
    "from tkinter import *\n",
    "import pymysql\n",
    "from reportlab.pdfgen import canvas\n",
    "import time\n",
    "    \n",
    "root = tk.Tk()\n",
    "root.config(bd=20)\n",
    "\n",
    "identificador = StringVar()\n",
    "nombre = StringVar()\n",
    "\n",
    "try:\n",
    "    db = pymysql.connect(\"localhost\", \"root\", \"\", \"keyword\")\n",
    "    print(\"bien\")\n",
    "except:\n",
    "    print(\"mal\")\n",
    "        \n",
    "    \n",
    "def insert():\n",
    "    cursor = db.cursor()\n",
    "    insert = 'INSERT INTO keyword VALUES('+str(identificador.get())+', \"'+str(nombre.get())+'\");'\n",
    "    cursor.execute(insert)\n",
    "    db.commit()\n",
    "    limpiar()\n",
    "    \n",
    "def delete():\n",
    "    try:\n",
    "        cursor = db.cursor()\n",
    "        delete = 'DELETE FROM `keyword` WHERE Id = '+str(identificador.get())+' and Nombre = '+str(nombre.get())\n",
    "        print(delete)\n",
    "        cursor.execute(delete)\n",
    "        db.commit()\n",
    "        limpiar()\n",
    "    except:\n",
    "        print(\"Nombre o identificador mal\")\n",
    "        limpiar()\n",
    "    \n",
    "def update():\n",
    "    try:\n",
    "        cursor = db.cursor()\n",
    "        update = \"UPDATE `keyword` SET Nombre = '\" + nombre.get() + \"' WHERE Id = \" + identificador.get() + \";\"\n",
    "        cursor.execute(update)\n",
    "        db.commit()\n",
    "        limpiar()\n",
    "    except:\n",
    "        print(\"identificador mal\")\n",
    "        limpiar()\n",
    "        \n",
    "def select():\n",
    "    ml = 10\n",
    "    t = \"                          \"\n",
    "    j = 740\n",
    "\n",
    "    c = canvas.Canvas('Reporte.pdf')\n",
    "\n",
    "    c.drawString(ml, 830, \"Empresa: La grandisima empresa\")\n",
    "    c.drawString(ml, 810, \"Reporte generado el: \" + time.strftime(\"%d/%m/%y\"))\n",
    "    c.drawString(ml, 760, \"ID\" + t + \"Nombre\")\n",
    "\n",
    "    \n",
    "    cursor = db.cursor()\n",
    "    select = \"select * from keyword\"\n",
    "    cursor.execute(select)\n",
    "    result = cursor.fetchall()\n",
    "\n",
    "\n",
    "    for row in result:\n",
    "        identificador = row[0]\n",
    "        nombre = row[1]\n",
    "        c.drawString(ml, j, \"    {0}\".format(identificador,nombre) + t + \"   {1}\".format(identificador,nombre))\n",
    "        j = j - 15\n",
    "\n",
    "    c.save()\n",
    "    \n",
    "def limpiar():\n",
    "    identificador.set(\"\")\n",
    "    nombre.set(\"\")\n",
    "    \n",
    "def salir():\n",
    "    root.destroy()\n",
    "\n",
    "def main():\n",
    "    Label(root, text=\"La gran empresa\").pack()\n",
    "    Label(root, text=\"Reporte de empleados\").pack()\n",
    "    \n",
    "    Label(root, text=\"\").pack()\n",
    "    \n",
    "    Label(root, text=\"Identificador: \").pack()\n",
    "    Entry(root, justify=\"center\", textvariable=identificador).pack()\n",
    "\n",
    "    Label(root, text=\"Nombre: \").pack()\n",
    "    Entry(root, justify=\"center\", textvariable=nombre).pack()\n",
    "    \n",
    "    Label(root, text=\"\").pack()\n",
    "    \n",
    "    Button(root, text=\"Insert\", command=insert).pack(side=\"left\")\n",
    "    Button(root, text=\"Delete\", command=delete).pack(side=\"left\")\n",
    "    Button(root, text=\"Update\", command=update).pack(side=\"left\")\n",
    "    Button(root, text=\"Select\", command=select).pack(side=\"left\")\n",
    "    Button(root, text=\"Exit\", command=salir).pack(side=\"left\")\n",
    "\n",
    "    root.mainloop()\n",
    "\n",
    "if __name__ == \"__main__\":\n",
    "    main()"
   ]
  },
  {
   "cell_type": "code",
   "execution_count": 19,
   "metadata": {},
   "outputs": [
    {
     "name": "stdout",
     "output_type": "stream",
     "text": [
      "Requirement already satisfied: reportlab in c:\\users\\carlosv\\anaconda3\\lib\\site-packages (3.5.23)\n",
      "Requirement already satisfied: pillow>=4.0.0 in c:\\users\\carlosv\\anaconda3\\lib\\site-packages (from reportlab) (5.4.1)\n"
     ]
    }
   ],
   "source": [
    "!pip install reportlab"
   ]
  },
  {
   "cell_type": "code",
   "execution_count": null,
   "metadata": {},
   "outputs": [],
   "source": []
  }
 ],
 "metadata": {
  "kernelspec": {
   "display_name": "Python 3",
   "language": "python",
   "name": "python3"
  },
  "language_info": {
   "codemirror_mode": {
    "name": "ipython",
    "version": 3
   },
   "file_extension": ".py",
   "mimetype": "text/x-python",
   "name": "python",
   "nbconvert_exporter": "python",
   "pygments_lexer": "ipython3",
   "version": "3.7.3"
  }
 },
 "nbformat": 4,
 "nbformat_minor": 2
}
